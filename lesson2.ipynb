{
 "cells": [
  {
   "cell_type": "code",
   "execution_count": 1,
   "metadata": {},
   "outputs": [],
   "source": [
    "%matplotlib inline\n",
    "\n",
    "import os\n",
    "\n",
    "import tensorflow.keras as keras\n",
    "import numpy as np\n",
    "import matplotlib.pyplot as plt\n",
    "\n",
    "from tensorflow.keras.layers import Dense, Conv2D, MaxPooling2D, Flatten, Input, Activation, add, Add, Dropout, BatchNormalization\n",
    "from tensorflow.keras.callbacks import EarlyStopping\n",
    "from tensorflow.keras.models import Sequential, Model\n",
    "from tensorflow.keras.datasets import cifar10\n",
    "from tensorflow.keras.datasets import fashion_mnist\n",
    "from tensorflow.keras.utils import to_categorical\n",
    "from sklearn.model_selection import train_test_split\n",
    "\n",
    "from IPython.display import SVG\n",
    "from tensorflow.python.keras.utils.vis_utils import model_to_dot\n",
    "from tensorflow.keras.preprocessing.image import ImageDataGenerator\n",
    "\n",
    "random_state = 42"
   ]
  },
  {
   "cell_type": "code",
   "execution_count": 2,
   "metadata": {},
   "outputs": [],
   "source": [
    "(x_train, y_train), (x_test, y_test) = cifar10.load_data()\n",
    "\n",
    "x_train = x_train.astype('float32') / 255\n",
    "y_train = np.eye(10)[y_train.astype('int32').flatten()]\n",
    "\n",
    "x_test = x_test.astype('float32') / 255\n",
    "y_test = np.eye(10)[y_test.astype('int32').flatten()]\n",
    "\n",
    "x_train, x_valid, y_train, y_valid = train_test_split(\n",
    "    x_train, y_train, test_size=10000)"
   ]
  },
  {
   "cell_type": "code",
   "execution_count": 4,
   "metadata": {},
   "outputs": [],
   "source": [
    "model = Sequential()\n",
    "\n",
    "model.add(Conv2D(6, kernel_size=(5, 5), activation='relu',\n",
    "                 kernel_initializer='he_normal', input_shape=(32, 32, 3)))  # 32x32x3 -> 28x28x6\n",
    "model.add(MaxPooling2D(pool_size=(2, 2)))  # 28x28x6 -> 14x14x6\n",
    "model.add(Conv2D(16, kernel_size=(5, 5), activation='relu',\n",
    "                 kernel_initializer='he_normal'))  # 14x14x6 -> 10x10x16\n",
    "model.add(MaxPooling2D(pool_size=(2, 2)))  # 10x10x16 -> 5x5x16\n",
    "\n",
    "model.add(Flatten())  # 5x5x16 -> 400\n",
    "model.add(Dense(120, activation='relu',\n",
    "                kernel_initializer='he_normal'))  # 400 ->120\n",
    "model.add(Dense(84, activation='relu', kernel_initializer='he_normal'))  # 120 ->84\n",
    "model.add(Dense(10, activation='softmax'))  # 84 ->10\n",
    "\n",
    "model.compile(\n",
    "    loss=keras.losses.categorical_crossentropy,\n",
    "    optimizer='adam',\n",
    "    metrics=['accuracy']\n",
    ")"
   ]
  },
  {
   "cell_type": "code",
   "execution_count": 5,
   "metadata": {},
   "outputs": [],
   "source": [
    "datagen = ImageDataGenerator(\n",
    "    width_shift_range=0.2,  # 3.1.1 左右にずらす\n",
    "    height_shift_range=0.2,  # 3.1.2 上下にずらす\n",
    "    horizontal_flip=True,  # 3.1.3 左右反転\n",
    "    # 3.2.1 Global Contrast Normalization (GCN) (Falseに設定しているのでここでは使用していない)\n",
    "    samplewise_center=False,\n",
    "    samplewise_std_normalization=False,\n",
    "    zca_whitening=False)  # 3.2.2 Zero-phase Component Analysis (ZCA) Whitening (Falseに設定しているのでここでは使用していない)"
   ]
  },
  {
   "cell_type": "code",
   "execution_count": 6,
   "metadata": {},
   "outputs": [
    {
     "name": "stderr",
     "output_type": "stream",
     "text": [
      "Using TensorFlow backend.\n"
     ]
    },
    {
     "name": "stdout",
     "output_type": "stream",
     "text": [
      "Epoch 1/30\n",
      "400/400 [==============================] - 33s 83ms/step - loss: 1.8454 - acc: 0.3238 - val_loss: 1.8234 - val_acc: 0.3325\n",
      "Epoch 2/30\n",
      "400/400 [==============================] - 32s 81ms/step - loss: 1.5652 - acc: 0.4259 - val_loss: 1.9158 - val_acc: 0.3610\n",
      "Epoch 3/30\n",
      "400/400 [==============================] - 32s 81ms/step - loss: 1.4751 - acc: 0.4629 - val_loss: 1.5382 - val_acc: 0.4659\n",
      "Epoch 4/30\n",
      "400/400 [==============================] - 32s 81ms/step - loss: 1.4088 - acc: 0.4905 - val_loss: 1.3232 - val_acc: 0.5308\n",
      "Epoch 5/30\n",
      "400/400 [==============================] - 32s 81ms/step - loss: 1.3591 - acc: 0.5111 - val_loss: 1.3512 - val_acc: 0.5291\n",
      "Epoch 6/30\n",
      "400/400 [==============================] - 33s 82ms/step - loss: 1.3144 - acc: 0.5251 - val_loss: 1.2330 - val_acc: 0.5715\n",
      "Epoch 7/30\n",
      "400/400 [==============================] - 33s 81ms/step - loss: 1.2784 - acc: 0.5405 - val_loss: 1.2271 - val_acc: 0.5673\n",
      "Epoch 8/30\n",
      "400/400 [==============================] - 33s 82ms/step - loss: 1.2533 - acc: 0.5542 - val_loss: 1.1705 - val_acc: 0.5919\n",
      "Epoch 9/30\n",
      "400/400 [==============================] - 33s 81ms/step - loss: 1.2247 - acc: 0.5642 - val_loss: 1.2538 - val_acc: 0.5628\n",
      "Epoch 10/30\n",
      "400/400 [==============================] - 32s 81ms/step - loss: 1.2059 - acc: 0.5679 - val_loss: 1.3438 - val_acc: 0.5393\n",
      "Epoch 11/30\n",
      "400/400 [==============================] - 33s 81ms/step - loss: 1.1779 - acc: 0.5810 - val_loss: 1.0677 - val_acc: 0.6178\n",
      "Epoch 12/30\n",
      "400/400 [==============================] - 33s 81ms/step - loss: 1.1574 - acc: 0.5879 - val_loss: 1.2557 - val_acc: 0.5585\n",
      "Epoch 13/30\n",
      "400/400 [==============================] - 33s 81ms/step - loss: 1.1482 - acc: 0.5913 - val_loss: 1.0358 - val_acc: 0.6321\n",
      "Epoch 14/30\n",
      "400/400 [==============================] - 33s 82ms/step - loss: 1.1298 - acc: 0.5961 - val_loss: 1.1094 - val_acc: 0.6119\n",
      "Epoch 15/30\n",
      "400/400 [==============================] - 33s 82ms/step - loss: 1.1136 - acc: 0.6032 - val_loss: 1.1462 - val_acc: 0.6063\n",
      "Epoch 16/30\n",
      "400/400 [==============================] - 33s 82ms/step - loss: 1.1026 - acc: 0.6085 - val_loss: 1.1207 - val_acc: 0.6135\n",
      "Epoch 17/30\n",
      "400/400 [==============================] - 33s 82ms/step - loss: 1.0922 - acc: 0.6098 - val_loss: 1.7479 - val_acc: 0.4821\n",
      "Epoch 18/30\n",
      "400/400 [==============================] - 33s 82ms/step - loss: 1.0766 - acc: 0.6191 - val_loss: 1.1442 - val_acc: 0.5992\n",
      "Epoch 19/30\n",
      "400/400 [==============================] - 33s 83ms/step - loss: 1.0662 - acc: 0.6236 - val_loss: 1.0653 - val_acc: 0.6283\n",
      "Epoch 20/30\n",
      "400/400 [==============================] - 33s 83ms/step - loss: 1.0543 - acc: 0.6244 - val_loss: 1.0019 - val_acc: 0.6539\n",
      "Epoch 21/30\n",
      "400/400 [==============================] - 33s 82ms/step - loss: 1.0464 - acc: 0.6309 - val_loss: 0.9933 - val_acc: 0.6528\n",
      "Epoch 22/30\n",
      "400/400 [==============================] - 33s 83ms/step - loss: 1.0434 - acc: 0.6329 - val_loss: 1.0715 - val_acc: 0.6236\n",
      "Epoch 23/30\n",
      "400/400 [==============================] - 33s 82ms/step - loss: 1.0349 - acc: 0.6345 - val_loss: 0.9864 - val_acc: 0.6542\n",
      "Epoch 24/30\n",
      "400/400 [==============================] - 33s 83ms/step - loss: 1.0301 - acc: 0.6370 - val_loss: 1.0769 - val_acc: 0.6230\n",
      "Epoch 25/30\n",
      "400/400 [==============================] - 33s 83ms/step - loss: 1.0152 - acc: 0.6397 - val_loss: 1.0844 - val_acc: 0.6195\n",
      "Epoch 26/30\n",
      "400/400 [==============================] - 33s 82ms/step - loss: 1.0140 - acc: 0.6446 - val_loss: 0.9602 - val_acc: 0.6667\n",
      "Epoch 27/30\n",
      "400/400 [==============================] - 33s 83ms/step - loss: 1.0032 - acc: 0.6469 - val_loss: 0.9606 - val_acc: 0.6661\n",
      "Epoch 28/30\n",
      "400/400 [==============================] - 33s 83ms/step - loss: 0.9993 - acc: 0.6464 - val_loss: 1.1871 - val_acc: 0.6120\n",
      "Epoch 29/30\n",
      "400/400 [==============================] - 33s 83ms/step - loss: 0.9916 - acc: 0.6529 - val_loss: 1.1344 - val_acc: 0.6189\n",
      "Epoch 30/30\n",
      "400/400 [==============================] - 33s 83ms/step - loss: 0.9860 - acc: 0.6535 - val_loss: 1.0280 - val_acc: 0.6480\n"
     ]
    },
    {
     "data": {
      "text/plain": [
       "<tensorflow.python.keras.callbacks.History at 0x7fd5205fc668>"
      ]
     },
     "execution_count": 6,
     "metadata": {},
     "output_type": "execute_result"
    }
   ],
   "source": [
    "def resblock(x, filters=16, kernel_size=(3, 3)):\n",
    "    x_ = Conv2D(filters, kernel_size, padding='same')(x)\n",
    "    x_ = BatchNormalization()(x_)\n",
    "    x_ = Conv2D(filters, kernel_size, padding='same')(x_)\n",
    "    x = Add()([x_, x])\n",
    "    x = BatchNormalization()(x)\n",
    "    x = Activation('relu')(x)\n",
    "    return x\n",
    "\n",
    "from keras import backend as K\n",
    "\n",
    "inputs = Input(shape=(32, 32, 3))\n",
    "\n",
    "x = Conv2D(6, kernel_size=(5, 5), padding='same', activation='relu')(inputs)\n",
    "x = MaxPooling2D(pool_size=(2,2))(x)\n",
    "x = Conv2D(16, kernel_size=(5, 5), padding='same', activation='relu')(x)\n",
    "x = resblock(x)\n",
    "x = MaxPooling2D(pool_size=(2,2))(x)\n",
    "x = Flatten()(x)\n",
    "x = Dense(120, activation='relu',kernel_initializer='he_normal')(x)\n",
    "x = Dense(84, activation='relu',kernel_initializer='he_normal')(x)\n",
    "y = Dense(10, activation='softmax')(x)\n",
    "model = Model(inputs=inputs, outputs=y)\n",
    "model.compile(optimizer='rmsprop',\n",
    "              loss='categorical_crossentropy', metrics=['accuracy'])\n",
    "model.fit_generator(datagen.flow(x_train, y_train, batch_size=100),\n",
    "                    steps_per_epoch=x_train.shape[0] // 100, epochs=30, validation_data=(x_valid, y_valid))"
   ]
  },
  {
   "cell_type": "code",
   "execution_count": null,
   "metadata": {},
   "outputs": [],
   "source": [
    "model.fit_generator(datagen.flow(x_train, y_train, batch_size=100),\n",
    "                    steps_per_epoch=x_train.shape[0] // 100, epochs=30, validation_data=(x_valid, y_valid))"
   ]
  }
 ],
 "metadata": {
  "kernelspec": {
   "display_name": "TensorFlow-GPU",
   "language": "python",
   "name": "tf-gpu"
  },
  "language_info": {
   "codemirror_mode": {
    "name": "ipython",
    "version": 3
   },
   "file_extension": ".py",
   "mimetype": "text/x-python",
   "name": "python",
   "nbconvert_exporter": "python",
   "pygments_lexer": "ipython3",
   "version": "3.6.8"
  }
 },
 "nbformat": 4,
 "nbformat_minor": 2
}
